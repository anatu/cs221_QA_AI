{
 "cells": [
  {
   "cell_type": "code",
   "execution_count": 28,
   "metadata": {
    "collapsed": true
   },
   "outputs": [],
   "source": [
    "y_pred = model.predict([tx, txq],\n",
    "                           batch_size=BATCH_SIZE)"
   ]
  },
  {
   "cell_type": "code",
   "execution_count": 29,
   "metadata": {},
   "outputs": [
    {
     "name": "stdout",
     "output_type": "stream",
     "text": [
      "(1000, 36)\n",
      "(1000, 36)\n"
     ]
    }
   ],
   "source": [
    "print(ty.shape)\n",
    "print(y_pred.shape)\n"
   ]
  },
  {
   "cell_type": "code",
   "execution_count": 75,
   "metadata": {},
   "outputs": [
    {
     "name": "stdout",
     "output_type": "stream",
     "text": [
      "[ 0.  0.  0.  0.  0.  0.  0.  0.  0.  0.  0.  0.  0.  0.  0.  0.  1.  0.\n",
      "  0.  0.  0.  0.  0.  0.  0.  0.  0.  0.  0.  0.  0.  0.  0.  0.  0.  0.]\n"
     ]
    }
   ],
   "source": [
    "y_pred_tar = y_pred\n",
    "for i in range(len(y_pred_tar)):\n",
    "    y_pred_tar[i][y_pred_tar[i] >= max(y_pred_tar[i])] = 1\n",
    "    y_pred_tar[i][y_pred_tar[i] < max(y_pred_tar[i])] = 0\n",
    "print(y_pred_tar[0])"
   ]
  },
  {
   "cell_type": "code",
   "execution_count": 76,
   "metadata": {},
   "outputs": [
    {
     "name": "stdout",
     "output_type": "stream",
     "text": [
      "187/1000\n"
     ]
    }
   ],
   "source": [
    "total = ty.shape[0]\n",
    "EM = 0\n",
    "for i, j in zip(ty, y_pred_tar):\n",
    "    if np.argmax(i) == np.argmax(j):\n",
    "        EM += 1\n",
    "print(str(EM) + '/' + str(total))"
   ]
  },
  {
   "cell_type": "code",
   "execution_count": 51,
   "metadata": {},
   "outputs": [
    {
     "name": "stdout",
     "output_type": "stream",
     "text": [
      "1000\n"
     ]
    }
   ],
   "source": [
    "numones = 0\n",
    "for example in ty:\n",
    "    for index in example:\n",
    "        if index == 1:\n",
    "            numones+=1\n",
    "print(numones)"
   ]
  },
  {
   "cell_type": "code",
   "execution_count": null,
   "metadata": {
    "collapsed": true
   },
   "outputs": [],
   "source": [
    "print(tx)\n",
    "article = ''\n",
    "question = ''\n",
    "print(word_idx)\n",
    "inv_word_idx = {v: k for k, v in word_idx.items()}\n",
    "print(inv_word_idx)\n",
    "for word in tx[4]:\n",
    "    if word != 0:\n",
    "        article += inv_word_idx[word] + ' '\n",
    "for word in txq[4]:\n",
    "    if word != 0:\n",
    "        question += inv_word_idx[word] + ' '\n",
    "print(article)\n",
    "print(question)\n",
    "print(inv_word_idx[np.argmax(ty[4])])\n",
    "print(inv_word_idx[np.argmax(y_pred_tar[4])])"
   ]
  }
 ],
 "metadata": {
  "kernelspec": {
   "display_name": "Python 3",
   "language": "python",
   "name": "python3"
  },
  "language_info": {
   "codemirror_mode": {
    "name": "ipython",
    "version": 3
   },
   "file_extension": ".py",
   "mimetype": "text/x-python",
   "name": "python",
   "nbconvert_exporter": "python",
   "pygments_lexer": "ipython3",
   "version": "3.6.5"
  }
 },
 "nbformat": 4,
 "nbformat_minor": 2
}
