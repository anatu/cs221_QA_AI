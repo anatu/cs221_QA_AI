{
 "cells": [
  {
   "cell_type": "markdown",
   "metadata": {},
   "source": [
    "## Use LSTM instead of GRU for Encoding"
   ]
  },
  {
   "cell_type": "code",
   "execution_count": 21,
   "metadata": {},
   "outputs": [],
   "source": [
    "from __future__ import print_function\n",
    "from functools import reduce\n",
    "import re\n",
    "import tarfile\n",
    "\n",
    "import numpy as np\n",
    "import os as os\n",
    "import json\n",
    "\n",
    "from keras.utils.data_utils import get_file\n",
    "from keras.layers.embeddings import Embedding\n",
    "from keras import layers, callbacks, models\n",
    "from keras.layers import recurrent\n",
    "from keras.models import Model\n",
    "from keras.preprocessing.sequence import pad_sequences\n",
    "from keras.models import Sequential\n",
    "from keras.layers import Flatten\n",
    "from datetime import datetime\n",
    "\n",
    "from keras import regularizers"
   ]
  },
  {
   "cell_type": "code",
   "execution_count": 2,
   "metadata": {},
   "outputs": [],
   "source": [
    "def tokenize(sent):\n",
    "    '''Return the tokens of a sentence including punctuation.\n",
    "    >>> tokenize('Bob dropped the apple. Where is the apple?')\n",
    "    ['Bob', 'dropped', 'the', 'apple', '.', 'Where', 'is', 'the', 'apple', '?']\n",
    "    '''\n",
    "    return [x.strip() for x in re.split('(\\W+)?', sent) if x.strip()]\n",
    "\n",
    "\n",
    "def parse_stories(lines, only_supporting=False):\n",
    "    '''Parse stories provided in the bAbi tasks format\n",
    "    If only_supporting is true,\n",
    "    only the sentences that support the answer are kept.\n",
    "    '''\n",
    "    data = []\n",
    "    story = []\n",
    "    for line in lines:\n",
    "        line = line.decode('utf-8').strip()\n",
    "        nid, line = line.split(' ', 1)\n",
    "        nid = int(nid)\n",
    "        if nid == 1:\n",
    "            story = []\n",
    "        if '\\t' in line:\n",
    "            q, a, supporting = line.split('\\t')\n",
    "            q = tokenize(q)\n",
    "            if only_supporting:\n",
    "                # Only select the related substory\n",
    "                supporting = map(int, supporting.split())\n",
    "                substory = [story[i - 1] for i in supporting]\n",
    "            else:\n",
    "                # Provide all the substories\n",
    "                substory = [x for x in story if x]\n",
    "            data.append((substory, q, a))\n",
    "            story.append('')\n",
    "        else:\n",
    "            sent = tokenize(line)\n",
    "            story.append(sent)\n",
    "    return data\n",
    "\n",
    "\n",
    "def get_stories(f, only_supporting=False, max_length=None):\n",
    "    '''Given a file name, read the file, retrieve the stories,\n",
    "    and then convert the sentences into a single story.\n",
    "    If max_length is supplied,\n",
    "    any stories longer than max_length tokens will be discarded.\n",
    "    '''\n",
    "    data = parse_stories(f.readlines(), only_supporting=only_supporting)\n",
    "    flatten = lambda data: reduce(lambda x, y: x + y, data)\n",
    "    data = [(flatten(story), q, answer) for story, q, answer in data\n",
    "            if not max_length or len(flatten(story)) < max_length]\n",
    "    return data\n",
    "\n",
    "\n",
    "def vectorize_stories(data, word_idx, story_maxlen, query_maxlen):\n",
    "    xs = []\n",
    "    xqs = []\n",
    "    ys = []\n",
    "    for story, query, answer in data:\n",
    "        x = [word_idx[w] for w in story]\n",
    "        xq = [word_idx[w] for w in query]\n",
    "        # let's not forget that index 0 is reserved\n",
    "        y = np.zeros(len(word_idx) + 1)\n",
    "        y[word_idx[answer]] = 1\n",
    "        xs.append(x)\n",
    "        xqs.append(xq)\n",
    "        ys.append(y)\n",
    "    return (pad_sequences(xs, maxlen=story_maxlen),\n",
    "            pad_sequences(xqs, maxlen=query_maxlen), np.array(ys))\n",
    "\n",
    "\n",
    "\n"
   ]
  },
  {
   "cell_type": "code",
   "execution_count": 16,
   "metadata": {},
   "outputs": [
    {
     "name": "stdout",
     "output_type": "stream",
     "text": [
      "RNN / Embed / Sent / Query = <class 'keras.layers.recurrent.LSTM'>, 50, 100, 100\n"
     ]
    }
   ],
   "source": [
    "RNN = recurrent.LSTM\n",
    "EMBED_HIDDEN_SIZE = 50\n",
    "SENT_HIDDEN_SIZE = 100\n",
    "QUERY_HIDDEN_SIZE = 100\n",
    "BATCH_SIZE = 128\n",
    "EPOCHS = 40\n",
    "MODEL_NAME = \"LSTM\"\n",
    "# Regularization parameter\n",
    "LAMBDA = 0.03\n",
    "print('RNN / Embed / Sent / Query = {}, {}, {}, {}'.format(RNN,\n",
    "                                                           EMBED_HIDDEN_SIZE,\n",
    "                                                           SENT_HIDDEN_SIZE,\n",
    "                                                           QUERY_HIDDEN_SIZE))\n",
    "\n",
    "try:\n",
    "    path = get_file('babi-tasks-v1-2.tar.gz',\n",
    "                    origin='https://s3.amazonaws.com/text-datasets/'\n",
    "                           'babi_tasks_1-20_v1-2.tar.gz')\n",
    "except:\n",
    "    print('Error downloading dataset, please download it manually:\\n'\n",
    "          '$ wget http://www.thespermwhale.com/jaseweston/babi/tasks_1-20_v1-2'\n",
    "          '.tar.gz\\n'\n",
    "          '$ mv tasks_1-20_v1-2.tar.gz ~/.keras/datasets/babi-tasks-v1-2.tar.gz')\n",
    "    raise\n",
    "\n",
    "\n"
   ]
  },
  {
   "cell_type": "code",
   "execution_count": 17,
   "metadata": {
    "scrolled": true
   },
   "outputs": [
    {
     "name": "stderr",
     "output_type": "stream",
     "text": [
      "C:\\ProgramData\\Anaconda3\\lib\\re.py:212: FutureWarning: split() requires a non-empty pattern match.\n",
      "  return _compile(pattern, flags).split(string, maxsplit)\n"
     ]
    },
    {
     "name": "stdout",
     "output_type": "stream",
     "text": [
      "vocab = ['.', '?', 'Daniel', 'John', 'Mary', 'Sandra', 'Where', 'apple', 'back', 'bathroom', 'bedroom', 'discarded', 'down', 'dropped', 'football', 'garden', 'got', 'grabbed', 'hallway', 'is', 'journeyed', 'kitchen', 'left', 'milk', 'moved', 'office', 'picked', 'put', 'the', 'there', 'to', 'took', 'travelled', 'up', 'went']\n",
      "x.shape = (1000, 552)\n",
      "xq.shape = (1000, 5)\n",
      "y.shape = (1000, 36)\n",
      "story_maxlen, query_maxlen = 552, 5\n"
     ]
    }
   ],
   "source": [
    "# Default QA1 with 1000 samples\n",
    "# challenge = 'tasks_1-20_v1-2/en/qa1_single-supporting-fact_{}.txt'\n",
    "# QA1 with 10,000 samples\n",
    "# challenge = 'tasks_1-20_v1-2/en-10k/qa1_single-supporting-fact_{}.txt'\n",
    "# QA2 with 1000 samples\n",
    "challenge = 'tasks_1-20_v1-2/en/qa2_two-supporting-facts_{}.txt'\n",
    "# QA2 with 10,000 samples\n",
    "# challenge = 'tasks_1-20_v1-2/en-10k/qa2_two-supporting-facts_{}.txt'\n",
    "with tarfile.open(path) as tar:\n",
    "    train = get_stories(tar.extractfile(challenge.format('train')))\n",
    "    test = get_stories(tar.extractfile(challenge.format('test')))\n",
    "np.random.shuffle(train)\n",
    "np.random.shuffle(test)\n",
    "vocab = set()\n",
    "for story, q, answer in train + test:\n",
    "    vocab |= set(story + q + [answer])\n",
    "vocab = sorted(vocab)\n",
    "\n",
    "# Reserve 0 for masking via pad_sequences\n",
    "vocab_size = len(vocab) + 1\n",
    "word_idx = dict((c, i + 1) for i, c in enumerate(vocab))\n",
    "story_maxlen = max(map(len, (x for x, _, _ in train + test)))\n",
    "query_maxlen = max(map(len, (x for _, x, _ in train + test)))\n",
    "\n",
    "x, xq, y = vectorize_stories(train, word_idx, story_maxlen, query_maxlen)\n",
    "tx, txq, ty = vectorize_stories(test, word_idx, story_maxlen, query_maxlen)\n",
    "\n",
    "print('vocab = {}'.format(vocab))\n",
    "print('x.shape = {}'.format(x.shape))\n",
    "print('xq.shape = {}'.format(xq.shape))\n",
    "print('y.shape = {}'.format(y.shape))\n",
    "print('story_maxlen, query_maxlen = {}, {}'.format(story_maxlen, query_maxlen))\n"
   ]
  },
  {
   "cell_type": "code",
   "execution_count": 18,
   "metadata": {},
   "outputs": [
    {
     "name": "stdout",
     "output_type": "stream",
     "text": [
      "Building the embedding matrix...\n",
      "Found 400000 word vectors.\n"
     ]
    }
   ],
   "source": [
    "print(\"Building the embedding matrix...\")\n",
    "GLOVE_PATH = '..\\\\Embeddings'\n",
    "\n",
    "\n",
    "f = open(os.path.join(GLOVE_PATH,\"glove.6B.{}d.txt\".format(EMBED_HIDDEN_SIZE)), 'r', encoding = \"ANSI\")\n",
    "embeddings_index = {}\n",
    "for line in f:\n",
    "    values = line.split(\" \")\n",
    "    word = values[0]\n",
    "    try:\n",
    "        coefs = np.asarray(values[1:], dtype='float32')\n",
    "    except ValueError:\n",
    "        print(values[1:])\n",
    "    embeddings_index[word] = coefs\n",
    "f.close()\n",
    "\n",
    "embedding_matrix = np.zeros((len(word_idx) + 1, EMBED_HIDDEN_SIZE))\n",
    "for word, i in word_idx.items():\n",
    "    embedding_vector = embeddings_index.get(word)\n",
    "    if embedding_vector is not None:\n",
    "        # words not found in embedding index will be all-zeros.\n",
    "        embedding_matrix[i] = embedding_vector\n",
    "\n",
    "print('Found %s word vectors.' % len(embeddings_index))"
   ]
  },
  {
   "cell_type": "code",
   "execution_count": 19,
   "metadata": {
    "scrolled": true
   },
   "outputs": [
    {
     "name": "stdout",
     "output_type": "stream",
     "text": [
      "Build model...\n",
      "__________________________________________________________________________________________________\n",
      "Layer (type)                    Output Shape         Param #     Connected to                     \n",
      "==================================================================================================\n",
      "story_Input (InputLayer)        (None, 552)          0                                            \n",
      "__________________________________________________________________________________________________\n",
      "question_Input (InputLayer)     (None, 5)            0                                            \n",
      "__________________________________________________________________________________________________\n",
      "embedding_6 (Embedding)         (None, 552, 50)      1800        story_Input[0][0]                \n",
      "__________________________________________________________________________________________________\n",
      "embedding_5 (Embedding)         (None, 5, 50)        1800        question_Input[0][0]             \n",
      "__________________________________________________________________________________________________\n",
      "bidirectional_6 (Bidirectional) (None, 552, 100)     40400       embedding_6[0][0]                \n",
      "__________________________________________________________________________________________________\n",
      "bidirectional_5 (Bidirectional) (None, 5, 100)       40400       embedding_5[0][0]                \n",
      "__________________________________________________________________________________________________\n",
      "reshape_8 (Reshape)             (None, 552, 100)     0           bidirectional_6[0][0]            \n",
      "__________________________________________________________________________________________________\n",
      "reshape_7 (Reshape)             (None, 5, 100)       0           bidirectional_5[0][0]            \n",
      "__________________________________________________________________________________________________\n",
      "dot_5 (Dot)                     (None, 552, 5)       0           reshape_8[0][0]                  \n",
      "                                                                 reshape_7[0][0]                  \n",
      "__________________________________________________________________________________________________\n",
      "activation_3 (Activation)       (None, 552, 5)       0           dot_5[0][0]                      \n",
      "__________________________________________________________________________________________________\n",
      "reshape_9 (Reshape)             (None, 552, 5)       0           activation_3[0][0]               \n",
      "__________________________________________________________________________________________________\n",
      "dot_6 (Dot)                     (None, 552, 100)     0           reshape_9[0][0]                  \n",
      "                                                                 reshape_7[0][0]                  \n",
      "__________________________________________________________________________________________________\n",
      "concatenate_3 (Concatenate)     (None, 552, 200)     0           reshape_8[0][0]                  \n",
      "                                                                 dot_6[0][0]                      \n",
      "__________________________________________________________________________________________________\n",
      "flatten_6 (Flatten)             (None, 110400)       0           concatenate_3[0][0]              \n",
      "__________________________________________________________________________________________________\n",
      "dense_8 (Dense)                 (None, 50)           5520050     flatten_6[0][0]                  \n",
      "__________________________________________________________________________________________________\n",
      "dense_9 (Dense)                 (None, 36)           1836        dense_8[0][0]                    \n",
      "==================================================================================================\n",
      "Total params: 5,606,286\n",
      "Trainable params: 5,606,286\n",
      "Non-trainable params: 0\n",
      "__________________________________________________________________________________________________\n",
      "None\n"
     ]
    }
   ],
   "source": [
    "print('Build model...')\n",
    "\n",
    "\n",
    "\n",
    "question_Input = layers.Input(shape=xq[0].shape, name='question_Input')\n",
    "story_Input = layers.Input(shape=x[0].shape, name='story_Input')\n",
    "\n",
    "#Embed question\n",
    "q_Embedding = layers.Embedding(input_dim = vocab_size, output_dim = EMBED_HIDDEN_SIZE, \\\n",
    "                               weights = [embedding_matrix], input_length = query_maxlen)(question_Input)\n",
    "# Bidirectional GRU (optimal dropout approx 0.4 without regularization)\n",
    "q_Encode = layers.Bidirectional(recurrent.LSTM(EMBED_HIDDEN_SIZE, return_sequences=True,\\\n",
    "                                              kernel_regularizer = regularizers.l2(LAMBDA), dropout=0.3))(q_Embedding)\n",
    "q_Encode = layers.Reshape((query_maxlen, 2*EMBED_HIDDEN_SIZE))(q_Encode)\n",
    "\n",
    "#Embed story\n",
    "s_Embedding = layers.Embedding(input_dim = vocab_size, output_dim = EMBED_HIDDEN_SIZE, \\\n",
    "                               weights = [embedding_matrix], input_length = story_maxlen)(story_Input)\n",
    "# Bidirectional GRU (optimal dropout approx 0.4 without regularization)\n",
    "s_Encode = layers.Bidirectional(recurrent.LSTM(EMBED_HIDDEN_SIZE, return_sequences=True, \\\n",
    "                                              kernel_regularizer = regularizers.l2(LAMBDA), dropout=0.3))(s_Embedding)\n",
    "s_Encode = layers.Reshape((story_maxlen, 2*EMBED_HIDDEN_SIZE))(s_Encode)\n",
    "\n",
    "# Attention Layer\n",
    "# Multiply between context and query to form attention\n",
    "# Resultant matrix should be MxN, taking in Mxd and Nxd \n",
    "# embedded question/answer matrices where d is 2*EMBED_HIDDEN_SIZE\n",
    "dot_merge = layers.Dot(axes = [2,2])([s_Encode, q_Encode])\n",
    "\n",
    "# Flatten and compute softmax for each attent distro\n",
    "flat = Flatten()(dot_merge)\n",
    "dense = layers.Dense(query_maxlen * story_maxlen, kernel_regularizer = regularizers.l2(LAMBDA))(flat)\n",
    "# act = layers.Activation(\"softmax\")(dense)\n",
    "act = layers.Activation(\"softmax\")(dot_merge)\n",
    "\n",
    "\n",
    "# Reshape back into the original dimensions (MxN)\n",
    "act_resh = layers.Reshape((story_maxlen, query_maxlen), input_shape=(query_maxlen,))(act)\n",
    "# Compute attention output as an element-wise multiplication\n",
    "attn_out = layers.Dot(axes=[2,1])([act_resh, q_Encode])\n",
    "# Next we concatenate to form a blended representation of the same dimension as an encoded question,\n",
    "# of which there exists one for every given context hidden state. Should be 4H x 2N\n",
    "blended = layers.Concatenate(axis=2)([s_Encode, attn_out])\n",
    "flat2 = Flatten()(blended)\n",
    "#relu = layers.Activation(\"relu\")(flat2)\n",
    "\n",
    "#####\n",
    "# TODO: Finish Logit + fully connected layer for RELU \n",
    "relu = layers.Dense(EMBED_HIDDEN_SIZE, activation = \"relu\")(flat2)\n",
    "#logit = layers.Dense(1)(relu)\n",
    "#####\n",
    "#print(relu.get_shape(), logit.get_shape())\n",
    "\n",
    "\n",
    "dense2 = layers.Dense(vocab_size, activation = \"softmax\", kernel_regularizer = regularizers.l2(LAMBDA))(relu)\n",
    "######\n",
    "# TODO: Add vanilla softmax at output (no weight vector here, i.e. no Dense) \n",
    "# dense2 = layers.Activation(\"softmax\")(logit)\n",
    "#####\n",
    "\n",
    "model = Model(inputs=[story_Input, question_Input], outputs = [dense2])\n",
    "print(model.summary())\n",
    "\n",
    "model.compile(optimizer='adam',\n",
    "              loss='categorical_crossentropy',\n",
    "              metrics=['accuracy'])\n"
   ]
  },
  {
   "cell_type": "code",
   "execution_count": null,
   "metadata": {
    "scrolled": true
   },
   "outputs": [
    {
     "name": "stdout",
     "output_type": "stream",
     "text": [
      "Training\n",
      "__________________________________________________________________________________________________\n",
      "Layer (type)                    Output Shape         Param #     Connected to                     \n",
      "==================================================================================================\n",
      "story_Input (InputLayer)        (None, 552)          0                                            \n",
      "__________________________________________________________________________________________________\n",
      "question_Input (InputLayer)     (None, 5)            0                                            \n",
      "__________________________________________________________________________________________________\n",
      "embedding_6 (Embedding)         (None, 552, 50)      1800        story_Input[0][0]                \n",
      "__________________________________________________________________________________________________\n",
      "embedding_5 (Embedding)         (None, 5, 50)        1800        question_Input[0][0]             \n",
      "__________________________________________________________________________________________________\n",
      "bidirectional_6 (Bidirectional) (None, 552, 100)     40400       embedding_6[0][0]                \n",
      "__________________________________________________________________________________________________\n",
      "bidirectional_5 (Bidirectional) (None, 5, 100)       40400       embedding_5[0][0]                \n",
      "__________________________________________________________________________________________________\n",
      "reshape_8 (Reshape)             (None, 552, 100)     0           bidirectional_6[0][0]            \n",
      "__________________________________________________________________________________________________\n",
      "reshape_7 (Reshape)             (None, 5, 100)       0           bidirectional_5[0][0]            \n",
      "__________________________________________________________________________________________________\n",
      "dot_5 (Dot)                     (None, 552, 5)       0           reshape_8[0][0]                  \n",
      "                                                                 reshape_7[0][0]                  \n",
      "__________________________________________________________________________________________________\n",
      "activation_3 (Activation)       (None, 552, 5)       0           dot_5[0][0]                      \n",
      "__________________________________________________________________________________________________\n",
      "reshape_9 (Reshape)             (None, 552, 5)       0           activation_3[0][0]               \n",
      "__________________________________________________________________________________________________\n",
      "dot_6 (Dot)                     (None, 552, 100)     0           reshape_9[0][0]                  \n",
      "                                                                 reshape_7[0][0]                  \n",
      "__________________________________________________________________________________________________\n",
      "concatenate_3 (Concatenate)     (None, 552, 200)     0           reshape_8[0][0]                  \n",
      "                                                                 dot_6[0][0]                      \n",
      "__________________________________________________________________________________________________\n",
      "flatten_6 (Flatten)             (None, 110400)       0           concatenate_3[0][0]              \n",
      "__________________________________________________________________________________________________\n",
      "dense_8 (Dense)                 (None, 50)           5520050     flatten_6[0][0]                  \n",
      "__________________________________________________________________________________________________\n",
      "dense_9 (Dense)                 (None, 36)           1836        dense_8[0][0]                    \n",
      "==================================================================================================\n",
      "Total params: 5,606,286\n",
      "Trainable params: 5,606,286\n",
      "Non-trainable params: 0\n",
      "__________________________________________________________________________________________________\n",
      "None\n",
      "Train on 950 samples, validate on 50 samples\n",
      "Epoch 1/100\n",
      "950/950 [==============================] - 15s 16ms/step - loss: 14.1726 - acc: 0.1516 - val_loss: 12.1344 - val_acc: 0.1600\n",
      "\n",
      "Epoch 00001: saving model to ../Outputs\\LSTM_11-17-2018.h5\n",
      "Epoch 2/100\n",
      "128/950 [===>..........................] - ETA: 10s - loss: 12.1199 - acc: 0.1797"
     ]
    }
   ],
   "source": [
    "print('Training')\n",
    "print(model.summary())\n",
    "now = datetime.now()\n",
    "currDate = \"{}-{}-{}\".format(now.month, now.day, now.year)\n",
    "\n",
    "outpath = \"../Outputs\"\n",
    "modelFilename = \"{}_{}.h5\".format(MODEL_NAME, currDate)\n",
    "histFilename = \"{}_history_{}.json\".format(MODEL_NAME, currDate)\n",
    "\n",
    "\n",
    "saverCallback = callbacks.ModelCheckpoint(filepath = os.path.join(outpath, modelFilename), monitor = \"val_loss\", verbose = 1)\n",
    "history = model.fit([x, xq], y,\n",
    "          batch_size=BATCH_SIZE,\n",
    "          epochs=100,\n",
    "          validation_split=0.05,\n",
    "          callbacks = [saverCallback])\n",
    "loss, acc = model.evaluate([tx, txq], ty,\n",
    "                           batch_size=BATCH_SIZE)\n",
    "\n",
    "with open(os.path.join(outpath, histFilename), 'w') as histFile:\n",
    "    json.dump(history.history, histFile)\n",
    "    \n",
    "print('Test loss / test accuracy = {:.4f} / {:.4f}'.format(loss, acc))"
   ]
  },
  {
   "cell_type": "code",
   "execution_count": null,
   "metadata": {},
   "outputs": [],
   "source": []
  },
  {
   "cell_type": "code",
   "execution_count": null,
   "metadata": {},
   "outputs": [],
   "source": []
  },
  {
   "cell_type": "code",
   "execution_count": null,
   "metadata": {},
   "outputs": [],
   "source": []
  },
  {
   "cell_type": "code",
   "execution_count": 11,
   "metadata": {},
   "outputs": [
    {
     "name": "stdout",
     "output_type": "stream",
     "text": [
      "Populating the interactive namespace from numpy and matplotlib\n"
     ]
    },
    {
     "name": "stderr",
     "output_type": "stream",
     "text": [
      "C:\\ProgramData\\Anaconda3\\lib\\site-packages\\IPython\\core\\magics\\pylab.py:160: UserWarning: pylab import has clobbered these variables: ['test', 'datetime', 'f']\n",
      "`%matplotlib` prevents importing * from pylab and numpy\n",
      "  \"\\n`%matplotlib` prevents importing * from pylab and numpy\"\n"
     ]
    }
   ],
   "source": [
    "import os, re\n",
    "import json\n",
    "import matplotlib.pyplot as plt\n",
    "import seaborn as sns\n",
    "%pylab inline"
   ]
  },
  {
   "cell_type": "code",
   "execution_count": 12,
   "metadata": {},
   "outputs": [],
   "source": [
    "outpath = \"../Outputs\"\n",
    "hist = json.load(open(os.path.join(outpath, \"LSTM_history_11-17-2018.json\"), \"r\"))"
   ]
  },
  {
   "cell_type": "code",
   "execution_count": 13,
   "metadata": {},
   "outputs": [
    {
     "name": "stdout",
     "output_type": "stream",
     "text": [
      "100\n"
     ]
    }
   ],
   "source": [
    "xlen = len(hist[list(hist.keys())[0]])\n",
    "print(xlen)\n",
    "x_pts = [i for i in range(xlen)]"
   ]
  },
  {
   "cell_type": "code",
   "execution_count": 14,
   "metadata": {},
   "outputs": [
    {
     "data": {
      "image/png": "[encoded data removed]",
      "text/plain": [
       "<Figure size 1080x288 with 2 Axes>"
      ]
     },
     "metadata": {},
     "output_type": "display_data"
    }
   ],
   "source": [
    "fig, (ax1, ax2) = plt.subplots(ncols=2, sharey = False)\n",
    "fig.set_figheight(4)\n",
    "fig.set_figwidth(15)\n",
    "sns.lineplot(x=x_pts, y=hist[\"loss\"], ax = ax1).set_title(\"loss\")\n",
    "sns.lineplot(x=x_pts, y=hist[\"acc\"], ax = ax2).set_title(\"acc\")\n",
    "fig.savefig(os.path.join(outpath, \"{}_train_metrics.png\".format(MODEL_NAME)))"
   ]
  },
  {
   "cell_type": "code",
   "execution_count": 15,
   "metadata": {},
   "outputs": [
    {
     "data": {
      "image/png": "[encoded data removed]",
      "text/plain": [
       "<Figure size 1080x288 with 2 Axes>"
      ]
     },
     "metadata": {},
     "output_type": "display_data"
    }
   ],
   "source": [
    "fig, (ax1, ax2) = plt.subplots(ncols=2, sharey = False)\n",
    "fig.set_figheight(4)\n",
    "fig.set_figwidth(15)\n",
    "sns.lineplot(x=x_pts, y=hist[\"val_loss\"], ax = ax1).set_title(\"val_loss\")\n",
    "sns.lineplot(x=x_pts, y=hist[\"val_acc\"], ax = ax2).set_title(\"val_acc\")\n",
    "fig.savefig(os.path.join(outpath, \"{}_val_metrics.png\".format(MODEL_NAME)))"
   ]
  },
  {
   "cell_type": "code",
   "execution_count": null,
   "metadata": {},
   "outputs": [],
   "source": []
  }
 ],
 "metadata": {
  "kernelspec": {
   "display_name": "Python 3",
   "language": "python",
   "name": "python3"
  },
  "language_info": {
   "codemirror_mode": {
    "name": "ipython",
    "version": 3
   },
   "file_extension": ".py",
   "mimetype": "text/x-python",
   "name": "python",
   "nbconvert_exporter": "python",
   "pygments_lexer": "ipython3",
   "version": "3.6.5"
  }
 },
 "nbformat": 4,
 "nbformat_minor": 2
}
